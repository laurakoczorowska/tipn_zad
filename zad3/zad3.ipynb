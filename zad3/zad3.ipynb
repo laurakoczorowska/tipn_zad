{
 "cells": [
  {
   "cell_type": "markdown",
   "metadata": {},
   "source": [
    "# Liczenie średniej ze wszystkich przedmiotów\n",
    "\n",
    "Moje wspaniałe dzieło będzie liczyło średnią ze wszytkich przedmiotów w tym semstrze studiów."
   ]
  },
  {
   "cell_type": "code",
   "execution_count": 5,
   "metadata": {},
   "outputs": [],
   "source": [
    "psychologia_ogolna = 5.0\n",
    "technologie_informatyczne_w_pracy_naukowej = 4.5\n",
    "metodologia = 5.0\n",
    "trening_interpersonalny = 5.0\n",
    "logika = 4.0\n",
    "filozofia = 4.0\n",
    "statystyka = 4.5\n",
    "neuroanatomia = 5.0\n",
    "biologiczne_mechanizmy_zachowania = 4.0\n",
    "angielski = 5.0\n",
    "historia_psychologii = 4.5\n",
    "psychologia_poznawcza = 5.0\n",
    "psychologia_spoleczna = 5.0"
   ]
  },
  {
   "cell_type": "code",
   "execution_count": 8,
   "metadata": {},
   "outputs": [],
   "source": [
    "suma= psychologia_ogolna + technologie_informatyczne_w_pracy_naukowej + metodologia + trening_interpersonalny + logika + filozofia + statystyka + neuroanatomia + biologiczne_mechanizmy_zachowania + angielski + historia_psychologii + psychologia_poznawcza + psychologia_spoleczna    "
   ]
  },
  {
   "cell_type": "code",
   "execution_count": 9,
   "metadata": {},
   "outputs": [
    {
     "data": {
      "text/plain": [
       "60.5"
      ]
     },
     "execution_count": 9,
     "metadata": {},
     "output_type": "execute_result"
    }
   ],
   "source": [
    "suma"
   ]
  },
  {
   "cell_type": "code",
   "execution_count": 10,
   "metadata": {},
   "outputs": [
    {
     "data": {
      "text/plain": [
       "4.653846153846154"
      ]
     },
     "execution_count": 10,
     "metadata": {},
     "output_type": "execute_result"
    }
   ],
   "source": [
    "suma /13"
   ]
  },
  {
   "cell_type": "code",
   "execution_count": null,
   "metadata": {},
   "outputs": [],
   "source": [
    "srednia = 4.653846153846154"
   ]
  },
  {
   "cell_type": "code",
   "execution_count": 15,
   "metadata": {},
   "outputs": [
    {
     "name": "stdout",
     "output_type": "stream",
     "text": [
      "Moja średnia w pierwszym semestrze studiów to 4.653846153846154\n"
     ]
    }
   ],
   "source": [
    "print(\"Moja średnia w pierwszym semestrze studiów to \" + str(srednia))"
   ]
  },
  {
   "cell_type": "code",
   "execution_count": null,
   "metadata": {},
   "outputs": [],
   "source": []
  }
 ],
 "metadata": {
  "kernelspec": {
   "display_name": "Python 3",
   "language": "python",
   "name": "python3"
  },
  "language_info": {
   "codemirror_mode": {
    "name": "ipython",
    "version": 3
   },
   "file_extension": ".py",
   "mimetype": "text/x-python",
   "name": "python",
   "nbconvert_exporter": "python",
   "pygments_lexer": "ipython3",
   "version": "3.7.0"
  }
 },
 "nbformat": 4,
 "nbformat_minor": 2
}
