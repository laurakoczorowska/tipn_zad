{
 "cells": [
  {
   "cell_type": "code",
   "execution_count": 1,
   "metadata": {},
   "outputs": [],
   "source": [
    "a = \"Czy zgadzasz się ze stwierdzeniem, że uprawiasz sport conajmniej 3 razy w tygodniu?\"\n",
    "b = \"Czy zgadzasz się ze stwierdzeniem, że wolisz spędzać czas aktywnie niż lenić się w domu?\"\n",
    "c = \"Czy zgadzasz się ze stwierdzeniem, że jesz fast foody najrzadziej jak to możliwe?\"\n",
    "d = \"Czy zgadzasz się ze stwierdzeniem, że jesz 5 posiłków dziennie?\"\n",
    "e = \"Czy zgadzasz się ze stwierdzeniem, że urozmaicasz swoją dietę o owocę i warzywa?\"\n",
    "punkty=[]"
   ]
  },
  {
   "cell_type": "code",
   "execution_count": 2,
   "metadata": {},
   "outputs": [],
   "source": [
    "def test(os):\n",
    "\n",
    "    lista_pytan = [a, b, c, d, e]\n",
    "    \n",
    "def zadaj_pytanie(a):\n",
    "        \n",
    "    print(a)\n",
    "    ax = input(\"1 oznacza zupełnie się nie zgadzam, a 5 oznacza całkowicie się zgadzam:\")\n",
    "    ax = int(ax)\n",
    "    if ax>5 or ax<1:\n",
    "        print(\"Wpisano złą liczbę! Zacznij od początku!\")\n",
    "    else:\n",
    "        return ax"
   ]
  },
  {
   "cell_type": "code",
   "execution_count": 4,
   "metadata": {},
   "outputs": [
    {
     "name": "stdout",
     "output_type": "stream",
     "text": [
      "Czy zgadzasz się ze stwierdzeniem, że uprawiasz sport conajmniej 3 razy w tygodniu?\n"
     ]
    },
    {
     "name": "stdin",
     "output_type": "stream",
     "text": [
      "1 oznacza zupełnie się nie zgadzam, a 5 oznacza całkowicie się zgadzam: 3\n"
     ]
    },
    {
     "name": "stdout",
     "output_type": "stream",
     "text": [
      "Czy zgadzasz się ze stwierdzeniem, że wolisz spędzać czas aktywnie niż lenić się w domu?\n"
     ]
    },
    {
     "name": "stdin",
     "output_type": "stream",
     "text": [
      "1 oznacza zupełnie się nie zgadzam, a 5 oznacza całkowicie się zgadzam: 4\n"
     ]
    },
    {
     "name": "stdout",
     "output_type": "stream",
     "text": [
      "Czy zgadzasz się ze stwierdzeniem, że jesz fast foody najrzadziej jak to możliwe?\n"
     ]
    },
    {
     "name": "stdin",
     "output_type": "stream",
     "text": [
      "1 oznacza zupełnie się nie zgadzam, a 5 oznacza całkowicie się zgadzam: 3\n"
     ]
    },
    {
     "name": "stdout",
     "output_type": "stream",
     "text": [
      "Czy zgadzasz się ze stwierdzeniem, że jesz 5 posiłków dziennie?\n"
     ]
    },
    {
     "name": "stdin",
     "output_type": "stream",
     "text": [
      "1 oznacza zupełnie się nie zgadzam, a 5 oznacza całkowicie się zgadzam: 4\n"
     ]
    },
    {
     "name": "stdout",
     "output_type": "stream",
     "text": [
      "Czy zgadzasz się ze stwierdzeniem, że urozmaicasz swoją dietę o owocę i warzywa?\n"
     ]
    },
    {
     "name": "stdin",
     "output_type": "stream",
     "text": [
      "1 oznacza zupełnie się nie zgadzam, a 5 oznacza całkowicie się zgadzam: 4\n"
     ]
    },
    {
     "name": "stdout",
     "output_type": "stream",
     "text": [
      "Twój wynik to 18 . Widać, że Twoje zdrowie jest dla Ciebie całkiem ważne, ale możesz wprowadzić parę poprawek.\n"
     ]
    }
   ],
   "source": [
    "pkt = zadaj_pytanie(a)\n",
    "punkty.append(pkt)\n",
    "pkt = zadaj_pytanie(b)\n",
    "punkty.append(pkt)\n",
    "pkt = zadaj_pytanie(c)\n",
    "punkty.append(pkt)\n",
    "pkt = zadaj_pytanie(d)\n",
    "punkty.append(pkt)\n",
    "pkt = zadaj_pytanie(e)\n",
    "punkty.append(pkt)\n",
    "wynik = sum(punkty)\n",
    "wynik = int(wynik)\n",
    "if wynik > 5 and wynik < 10:\n",
    "    print(\"Twój wynik to\", wynik, \".\", \"Jesteś osobą,która kompletnie nie dba o swoje zdrowie. Zmień to lub inaczej skończysz jako otyły i chorowity człowiek.\")\n",
    "elif wynik == 5:\n",
    "    print(\"Twój wynik to\", wynik, \".\", \"Aż szkoda przyznawać się do tak niezdrowego wyniku!!!\")  \n",
    "elif wynik >= 10 and wynik < 15:\n",
    "    print(\"Twój wynik to\", wynik, \".\", \"Nie dbasz o swoję zdrowie, ale zawsze mogło być gorzej. Czas wziąć się za siebie!\")   \n",
    "elif wynik >= 15 and wynik < 20:\n",
    "    print(\"Twój wynik to\", wynik, \".\", \"Widać, że Twoje zdrowie jest dla Ciebie całkiem ważne, ale możesz wprowadzić parę poprawek.\")\n",
    "elif wynik >=20 and wynik < 25:\n",
    "    print(\"Twój wynik to\", wynik, \".\", \"Widać, że Twoje zdrowie jest dla Ciebie ważne. Brawo ! Wiele osób mogłoby się na Tobie wzorować.\")\n",
    "elif wynik == 25:\n",
    "    print(\"Twój wynik to\", wynik, \".\", \"Gratulacje! Jesteś najzdrowszą osobą w okolicy. Oby tak dalej!\")\n",
    "\n",
    "if wynik > 0:\n",
    "    punkty.pop(0)\n",
    "    punkty.pop(0)\n",
    "    punkty.pop(0)\n",
    "    punkty.pop(0)\n",
    "    punkty.pop(0)\n",
    "else:\n",
    "    print(\"Dziękuję za zrobienie testu.\")    "
   ]
  },
  {
   "cell_type": "code",
   "execution_count": null,
   "metadata": {},
   "outputs": [],
   "source": []
  }
 ],
 "metadata": {
  "kernelspec": {
   "display_name": "Python 3",
   "language": "python",
   "name": "python3"
  },
  "language_info": {
   "codemirror_mode": {
    "name": "ipython",
    "version": 3
   },
   "file_extension": ".py",
   "mimetype": "text/x-python",
   "name": "python",
   "nbconvert_exporter": "python",
   "pygments_lexer": "ipython3",
   "version": "3.7.0"
  }
 },
 "nbformat": 4,
 "nbformat_minor": 2
}
